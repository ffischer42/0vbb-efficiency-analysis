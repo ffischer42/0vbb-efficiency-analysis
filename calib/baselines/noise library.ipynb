{
 "cells": [
  {
   "cell_type": "code",
   "execution_count": 2,
   "metadata": {},
   "outputs": [
    {
     "data": {
      "text/plain": [
       "\"../../../waveforms/baselines/wf_check/\""
      ]
     },
     "execution_count": 2,
     "metadata": {},
     "output_type": "execute_result"
    }
   ],
   "source": [
    "# function main(args)\n",
    "#     return args\n",
    "# end\n",
    "# Load inline arguments for worker unit\n",
    "# num_workers, this = main(ARGS)\n",
    "num_workers = 1 #parse(Int64, num_workers)\n",
    "this        = 1 #parse(Int64, this)\n",
    "\n",
    "#\n",
    "# Load packages and functions\n",
    "include(\"../../src/init.jl\")\n",
    "include(\"../../src/fct.jl\")\n",
    "include(\"../../src/worker_fct.jl\")\n",
    "\n",
    "#\n",
    "# Output paths and filter settings\n",
    "plots_base_path = \"../../../waveforms/baselines/plots/raw/\"\n",
    "base_path_raw   = \"../../../waveforms/baselines/raw_wf_check/\"\n",
    "base_path       = \"../../../waveforms/baselines/wf_check/\""
   ]
  },
  {
   "cell_type": "code",
   "execution_count": 8,
   "metadata": {},
   "outputs": [],
   "source": [
    "calib_filepath = \"../../dicts/calib.json\"\n",
    "calib = JSON.parsefile(calib_filepath);\n",
    "\n",
    "datasets_str = [\n",
    "    \"0053-0064\",\n",
    "    \"0065-0079\",\n",
    "    \"0080-0092\",\n",
    "    \"0093-0113\"\n",
    "]\n",
    "det_lib = JSON.parsefile(\"../../dicts/det_lib.json\");"
   ]
  },
  {
   "cell_type": "code",
   "execution_count": 15,
   "metadata": {},
   "outputs": [
    {
     "data": {
      "text/plain": [
       "10-element Vector{Any}:\n",
       " 83\n",
       " 84\n",
       " 85\n",
       " 86\n",
       " 87\n",
       " 88\n",
       " 89\n",
       " 90\n",
       " 91\n",
       " 92"
      ]
     },
     "execution_count": 15,
     "metadata": {},
     "output_type": "execute_result"
    }
   ],
   "source": [
    "ch = 0\n",
    "ch_str = lpad(ch, 2, \"0\")\n",
    "run_str = det_lib[channel_to_name[ch]][\"run_str\"]\n",
    "calib[channel_to_name[ch]][\"data\"][run_str][\"used_runs\"]"
   ]
  },
  {
   "cell_type": "code",
   "execution_count": null,
   "metadata": {},
   "outputs": [],
   "source": []
  },
  {
   "cell_type": "code",
   "execution_count": 24,
   "metadata": {},
   "outputs": [],
   "source": [
    "run_strs = glob(\"../../../waveforms/calib/raw_v07.01/*\")\n",
    "runs = []\n",
    "for run in run_strs\n",
    "    isdir(run) ? push!(runs, basename(run)) : \"\"\n",
    "end\n",
    "\n",
    "run_keys  = []\n",
    "for run in runs\n",
    "    current_dir = pwd()\n",
    "    ddir = \"/remote/ceph/group/gerda/data/phase2/blind/v07.01/gen\"\n",
    "    cd(joinpath(ddir, \"/tier4/all/phy/$run/\"))\n",
    "    files = glob(\"*.root\")\n",
    "    for meta_key in files\n",
    "        push!(run_keys, split(meta_key, \"-phy-all-tier\")[1])\n",
    "    end \n",
    "    cd(current_dir)\n",
    "end\n",
    "run_keys_filtered = []\n",
    "for k in run_keys\n",
    "    if parse(Int64, split(split(k, \"-\")[2], \"run\")[end]) in calib[channel_to_name[ch]][\"data\"][run_str][\"used_runs\"]\n",
    "        push!(run_keys_filtered, k)\n",
    "    end\n",
    "end\n",
    "run_keys = run_keys_filtered;"
   ]
  },
  {
   "cell_type": "code",
   "execution_count": 26,
   "metadata": {},
   "outputs": [
    {
     "name": "stderr",
     "output_type": "stream",
     "text": [
      "┌ Info: Run keys are gathered! Number of files: 2312\n",
      "└ @ Main In[26]:1\n",
      "┌ Info: This worker takes: 2312\n",
      "└ @ Main In[26]:3\n"
     ]
    }
   ],
   "source": [
    "@info(\"Run keys are gathered! Number of files: \" * string(length(run_keys)))\n",
    "run_keys = get_share_for_worker(run_keys, num_workers, this)\n",
    "@info(\"This worker takes: \" * string(length(run_keys)))"
   ]
  },
  {
   "cell_type": "code",
   "execution_count": 16,
   "metadata": {},
   "outputs": [
    {
     "name": "stdout",
     "output_type": "stream",
     "text": [
      "37\n"
     ]
    },
    {
     "name": "stderr",
     "output_type": "stream",
     "text": [
      "┌ Info: File 4 of 9496\n",
      "└ @ Main In[16]:20\n",
      "┌ Info: >---------------------------------------------------------------------<\n",
      "└ @ Main In[16]:21\n",
      "┌ Info: Load waveforms\n",
      "└ @ Main In[16]:22\n"
     ]
    },
    {
     "name": "stdout",
     "output_type": "stream",
     "text": [
      "  6.821409 seconds (2.43 M allocations: 3.903 GiB, 5.47% gc time)\n"
     ]
    },
    {
     "name": "stderr",
     "output_type": "stream",
     "text": [
      "┌ Info: Start selecting & storing\n",
      "└ @ Main In[16]:24\n",
      "┌ Info: Ch00-GD91A | 566 baselines stored!\n",
      "└ @ Main In[16]:66\n",
      "┌ Info: Ch01-GD35B | 563 baselines stored!\n",
      "└ @ Main In[16]:66\n",
      "┌ Info: Ch02-GD02B | 561 baselines stored!\n",
      "└ @ Main In[16]:66\n",
      "┌ Info: Ch03-GD00B | 566 baselines stored!\n",
      "└ @ Main In[16]:66\n",
      "┌ Info: Ch04-GD61A | 567 baselines stored!\n",
      "└ @ Main In[16]:66\n",
      "┌ Info: Ch05-GD89B | 564 baselines stored!\n",
      "└ @ Main In[16]:66\n",
      "┌ Info: Ch06-GD02D | 564 baselines stored!\n",
      "└ @ Main In[16]:66\n",
      "┌ Info: Ch07-GD91C | 566 baselines stored!\n",
      "└ @ Main In[16]:66\n",
      "┌ Info: Ch08-ANG5 | 553 baselines stored!\n",
      "└ @ Main In[16]:66\n",
      "┌ Info: Ch09-RG1 | 1111 baselines stored!\n",
      "└ @ Main In[16]:66\n",
      "┌ Info: Ch10-ANG3 | 553 baselines stored!\n",
      "└ @ Main In[16]:66\n",
      "┌ Info: Ch11-GD02A | 565 baselines stored!\n",
      "└ @ Main In[16]:66\n",
      "┌ Info: Ch12-GD32B | 566 baselines stored!\n",
      "└ @ Main In[16]:66\n",
      "┌ Info: Ch13-GD32A | 569 baselines stored!\n",
      "└ @ Main In[16]:66\n",
      "┌ Info: Ch14-GD32C | 562 baselines stored!\n",
      "└ @ Main In[16]:66\n",
      "┌ Info: Ch15-GD89C | 565 baselines stored!\n",
      "└ @ Main In[16]:66\n",
      "┌ Info: Ch16-GD61C | 567 baselines stored!\n",
      "└ @ Main In[16]:66\n",
      "┌ Info: Ch17-GD76B | 568 baselines stored!\n",
      "└ @ Main In[16]:66\n",
      "┌ Info: Ch18-GD00C | 564 baselines stored!\n",
      "└ @ Main In[16]:66\n",
      "┌ Info: Ch19-GD35C | 562 baselines stored!\n",
      "└ @ Main In[16]:66\n",
      "┌ Info: Ch20-GD76C | 562 baselines stored!\n",
      "└ @ Main In[16]:66\n",
      "┌ Info: Ch21-GD89D | 567 baselines stored!\n",
      "└ @ Main In[16]:66\n",
      "┌ Info: Ch22-GD00D | 561 baselines stored!\n",
      "└ @ Main In[16]:66\n",
      "┌ Info: Ch23-GD79C | 565 baselines stored!\n",
      "└ @ Main In[16]:66\n",
      "┌ Info: Ch24-GD35A | 561 baselines stored!\n",
      "└ @ Main In[16]:66\n",
      "┌ Info: Ch25-GD91B | 564 baselines stored!\n",
      "└ @ Main In[16]:66\n",
      "┌ Info: Ch26-GD61B | 565 baselines stored!\n",
      "└ @ Main In[16]:66\n"
     ]
    },
    {
     "ename": "LoadError",
     "evalue": "InterruptException:",
     "output_type": "error",
     "traceback": [
      "InterruptException:",
      "",
      "Stacktrace:",
      " [1] PyObject at /user/.julia/packages/PyCall/BcTLp/src/PyCall.jl:78 [inlined]",
      " [2] __getproperty(::PyCall.PyObject, ::Symbol) at /user/.julia/packages/PyCall/BcTLp/src/PyCall.jl:308",
      " [3] getproperty at /user/.julia/packages/PyCall/BcTLp/src/PyCall.jl:312 [inlined]",
      " [4] pyjaggedarray2jl(::PyCall.PyObject) at /user/.julia/packages/UpROOT/pN5xO/src/pyjlconv.jl:5",
      " [5] py2jl(::PyCall.PyObject) at /user/.julia/packages/UpROOT/pN5xO/src/pyjlconv.jl:49",
      " [6] getindex(::TBranch, ::UnitRange{Int64}) at /user/.julia/packages/UpROOT/pN5xO/src/ttree.jl:128",
      " [7] getindex(::TBranch, ::Int64) at /user/.julia/packages/UpROOT/pN5xO/src/ttree.jl:131",
      " [8] macro expansion at ./multidimensional.jl:772 [inlined]",
      " [9] macro expansion at ./cartesian.jl:64 [inlined]",
      " [10] macro expansion at ./multidimensional.jl:767 [inlined]",
      " [11] _unsafe_getindex! at ./multidimensional.jl:762 [inlined]",
      " [12] _unsafe_getindex(::IndexLinear, ::TBranch, ::Array{Int64,1}) at ./multidimensional.jl:757",
      " [13] _getindex at ./multidimensional.jl:743 [inlined]",
      " [14] getindex(::TBranch, ::Array{Int64,1}) at ./abstractarray.jl:1060",
      " [15] top-level scope at In[16]:29",
      " [16] include_string(::Function, ::Module, ::String, ::String) at ./loading.jl:1091"
     ]
    }
   ],
   "source": [
    "for id in run_keys\n",
    "#     Base.run(`clear`)\n",
    "    IJulia.clear_output(true)\n",
    "    int_run = parse(Int64, split(split(id, \"-\")[2], \"run\")[end])\n",
    "    str_run = lpad(int_run, 4, \"0\");\n",
    "    ddir = \"/remote/ceph/group/gerda/data/phase2/blind/v07.01/gen\"\n",
    "    channels = []\n",
    "    for ch in 0:1:36\n",
    "        filename = base_path_raw * \"run\" * str_run * \"/\" * lpad(ch, 2, \"0\") * \"-\" * channel_to_name[ch] * \"/\"\n",
    "        !isdir(filename) ? mkpath(filename) : \"\"\n",
    "        filename *= id * \"-phy-bl-raw.h5\"\n",
    "        !isfile(filename) ? push!(channels, ch) : \"\"\n",
    "    end\n",
    "    println(length(channels))\n",
    "    if length(channels) > 0\n",
    "        filename1 = ddir*\"/tier1/ged/phy/run\"*str_run*\"/\"*id*\"-phy-ged-tier1.root\";\n",
    "        filename4 = ddir*\"/tier4/all/phy/run\"*str_run*\"/\"*id*\"-phy-all-tier4.root\";\n",
    "        tree = TFile(filename4)[\"tier4\"];\n",
    "        current_file_number = findall(x->x == id, run_keys)[1]\n",
    "        @info(\"File \" * string(current_file_number) * \" of \" * string(length(run_keys)))\n",
    "        @info(\">---------------------------------------------------------------------<\")\n",
    "        @info(\"Load waveforms\")\n",
    "        @time events = TypedTables.Table(raw2mgtevent.(TFile(filename1)[\"MGTree\"].event[:]))\n",
    "        @info(\"Start selecting & storing\")\n",
    "        waveforms    = events.fAuxWaveforms;\n",
    "        for ch in channels\n",
    "            index = findall(x->x[ch + 1] == 0, tree.energy[1:end])\n",
    "            if length(index) > 0\n",
    "                energy       = sum.(tree.energy[index])\n",
    "                multiplicity = tree.multiplicity[index]\n",
    "                timestamp    = tree.timestamp[index]\n",
    "                channel      = Int.(zeros(length(index)) .+ ch)\n",
    "\n",
    "                datasetID    = []\n",
    "                map(x->push!(datasetID, x[ch+1]), tree.datasetID[index])\n",
    "\n",
    "                waveform  = [] \n",
    "                map(x->push!(waveform, x[ch+1].wf), waveforms[index])\n",
    "\n",
    "                filtered_dict = Table( \n",
    "                    energy       = energy,\n",
    "                    multiplicity = multiplicity, \n",
    "                    timestamp    = timestamp,\n",
    "                    run          = Int.(zeros(length(index)) .+ int_run),\n",
    "                    datasetID    = datasetID,\n",
    "                    channel      = channel, \n",
    "                    waveform     = waveform\n",
    "                )\n",
    "                events   = nothing;\n",
    "\n",
    "                filename = base_path_raw * \"run\" * str_run * \"/\" * lpad(ch, 2, \"0\") * \"-\" * channel_to_name[ch] * \"/\"\n",
    "                filename *= id * \"-phy-bl-raw.h5\"\n",
    "                HDF5.h5open(filename, \"w\") do h5f\n",
    "                    LegendHDF5IO.writedata( h5f, \"data\", Table( \n",
    "                            energy       = float.(filtered_dict.energy),\n",
    "                            multiplicity = float.(filtered_dict.multiplicity), \n",
    "                            timestamp    = float.(filtered_dict.timestamp),\n",
    "                            run          = Int.(filtered_dict.run),\n",
    "                            datasetID    = Int.(filtered_dict.datasetID),\n",
    "                            channel      = Int.(filtered_dict.channel), \n",
    "                            waveform     = StructArray{RDWaveform}(Array{RDWaveform,1}(filtered_dict.waveform))\n",
    "                        )\n",
    "                    )\n",
    "                end\n",
    "\n",
    "                @info(\"Ch\" * lpad(ch, 2, \"0\") * \"-\" * channel_to_name[ch] * \" | \" * string(size(filtered_dict, 1)) * \" baselines stored!\")\n",
    "            end\n",
    "        end\n",
    "    end\n",
    "end"
   ]
  },
  {
   "cell_type": "code",
   "execution_count": null,
   "metadata": {},
   "outputs": [],
   "source": []
  },
  {
   "cell_type": "code",
   "execution_count": null,
   "metadata": {},
   "outputs": [],
   "source": []
  },
  {
   "cell_type": "markdown",
   "metadata": {},
   "source": [
    "# Calibrate baselines"
   ]
  },
  {
   "cell_type": "code",
   "execution_count": 29,
   "metadata": {},
   "outputs": [],
   "source": [
    "calib_filepath = \"../../dicts/calib.json\"\n",
    "calib = JSON.parsefile(calib_filepath);\n",
    "\n",
    "datasets_str = [\n",
    "    \"0053-0064\",\n",
    "    \"0065-0079\",\n",
    "    \"0080-0092\",\n",
    "    \"0093-0113\"\n",
    "]\n",
    "det_lib = JSON.parsefile(\"../../dicts/det_lib.json\");"
   ]
  },
  {
   "cell_type": "code",
   "execution_count": 31,
   "metadata": {},
   "outputs": [],
   "source": [
    "# function main(args)\n",
    "#     return args\n",
    "# end\n",
    "# Load inline arguments for worker unit\n",
    "# num_workers, this = main(ARGS)\n",
    "num_workers = 1 #parse(Int64, num_workers)\n",
    "this        = 1 #parse(Int64, this)\n",
    "\n",
    "#\n",
    "# Load packages and functions\n",
    "include(\"../../src/init.jl\")\n",
    "include(\"../../src/fct.jl\")\n",
    "include(\"../../src/worker_fct.jl\")\n",
    "# using Distributed\n",
    "#\n",
    "# Output paths and filter settings\n",
    "plots_base_path = \"../../../waveforms/baselines/plots/raw/\"\n",
    "base_path_raw   = \"../../../waveforms/baselines/raw_wf/\"\n",
    "base_path       = \"../../../waveforms/baselines/wf_check/\"\n",
    "# addprocs(3)\n",
    "# nprocs()"
   ]
  },
  {
   "cell_type": "code",
   "execution_count": 43,
   "metadata": {},
   "outputs": [
    {
     "name": "stderr",
     "output_type": "stream",
     "text": [
      "┌ Info: Channel Ch00 in progress\n",
      "└ @ Main In[43]:16\n"
     ]
    }
   ],
   "source": [
    "cal = JSON.parsefile(\"../../dicts/A_cal.json\");\n",
    "for ch in [0]#0:1:36\n",
    "    ch_str = lpad(ch,2,\"0\")\n",
    "    files = glob(base_path_raw * \"*/\" * ch_str * \"-\" * channel_to_name[ch] * \"/*.h5\");\n",
    "    \n",
    "    filtered_files = []\n",
    "    for file in files\n",
    "        run_str = split(basename(file), \"-\")[2]\n",
    "        run = parse(Int64, split(run_str, \"run\")[end])\n",
    "        ds_str = det_lib[channel_to_name[ch]][\"run_str\"]\n",
    "        if run in calib[channel_to_name[ch]][\"data\"][ds_str][\"used_runs\"]\n",
    "            push!(filtered_files, file)\n",
    "        end\n",
    "    end\n",
    "    IJulia.clear_output(true)\n",
    "    @info(\"Channel Ch\" * lpad(ch, 2, \"0\") * \" in progress\")\n",
    "    @showprogress for file in filtered_files\n",
    "        filename = base_path * split(split(file, \"/raw_wf/\")[2], \"-bl-raw.h5\")[1] * \".h5\"\n",
    "        run_str = split(basename(file), \"-\")[2]\n",
    "        run = parse(Int64, split(run_str, \"run\")[end])\n",
    "        if haskey(cal, channel_to_name[ch])\n",
    "            if haskey(cal[channel_to_name[ch]], run_str) && !isfile(filename)\n",
    "                data = HDF5.h5open(file, \"r\") do h5f\n",
    "                    LegendHDF5IO.readdata(h5f, \"data\")\n",
    "                end\n",
    "                cal_pulses = []\n",
    "                map(x->push!(cal_pulses, RDWaveform(x.time, (float.(x.value) .- mean(x.value)) ./ cal[channel_to_name[ch]][run_str][1] )), data.waveform);\n",
    "\n",
    "                !isdir(dirname(filename)) ? mkpath(dirname(filename)) : \"\"\n",
    "                HDF5.h5open(filename, \"w\") do h5f\n",
    "                    LegendHDF5IO.writedata(h5f, \"data\", Table(\n",
    "                            energy = data.energy,\n",
    "                            multiplicity = data.multiplicity,\n",
    "                            timestamp = data.timestamp,\n",
    "                            run = data.run,\n",
    "                            datasetID = data.datasetID,\n",
    "                            channel = data.channel,\n",
    "                            waveform = StructArray{RDWaveform}(Array{RDWaveform,1}(cal_pulses))\n",
    "                        )\n",
    "                    )\n",
    "                end\n",
    "            end\n",
    "        end\n",
    "    end\n",
    "end"
   ]
  },
  {
   "cell_type": "code",
   "execution_count": null,
   "metadata": {},
   "outputs": [],
   "source": []
  },
  {
   "cell_type": "code",
   "execution_count": null,
   "metadata": {},
   "outputs": [],
   "source": []
  }
 ],
 "metadata": {
  "kernelspec": {
   "display_name": "Julia 1.7.0",
   "language": "julia",
   "name": "julia-1.7"
  },
  "language_info": {
   "file_extension": ".jl",
   "mimetype": "application/julia",
   "name": "julia",
   "version": "1.7.0"
  }
 },
 "nbformat": 4,
 "nbformat_minor": 4
}
