{
 "cells": [
  {
   "cell_type": "code",
   "execution_count": 15,
   "metadata": {},
   "outputs": [
    {
     "data": {
      "text/plain": [
       "get_share_for_worker! (generic function with 1 method)"
      ]
     },
     "execution_count": 15,
     "metadata": {},
     "output_type": "execute_result"
    }
   ],
   "source": [
    "simdir          = \"/remote/ceph2/group/gerda/data/mpik/gerda-simulations/gerda-gems-db/pss-dev\"\n",
    "simdir_old      = \"/remote/ceph/group/gerda/data/simulation/gerda-mage-sim\"\n",
    "mapping_file    = simdir_old*\"/UTILS/det-data/ged-mapping.json\"\n",
    "parameters_file = simdir_old*\"/UTILS/det-data/ged-parameters.json\"\n",
    "config_dir      = \"/res/Impurity_Scan/config-dep/\"\n",
    "n_sim_events    = 5000\n",
    "\n",
    "include(\"../src/init.jl\")\n",
    "include(\"../src/fct.jl\")\n",
    "include(\"../src/worker_fct.jl\")"
   ]
  },
  {
   "cell_type": "code",
   "execution_count": null,
   "metadata": {},
   "outputs": [],
   "source": []
  },
  {
   "cell_type": "code",
   "execution_count": 9,
   "metadata": {},
   "outputs": [
    {
     "data": {
      "text/plain": [
       "\"../../waveforms/sim/processed/\""
      ]
     },
     "execution_count": 9,
     "metadata": {},
     "output_type": "execute_result"
    }
   ],
   "source": [
    "plots_base_path = \"../../waveforms/sim/plots/raw/\"\n",
    "base_path_raw   = \"../../waveforms/sim/raw/\"\n",
    "base_path       = \"../../waveforms/sim/processed/\""
   ]
  },
  {
   "cell_type": "code",
   "execution_count": 16,
   "metadata": {},
   "outputs": [],
   "source": [
    "current_dir = pwd()\n",
    "cd(simdir)\n",
    "filenames = glob(\"calib/*/*/*/*.root\")\n",
    "cd(current_dir)"
   ]
  },
  {
   "cell_type": "code",
   "execution_count": 18,
   "metadata": {},
   "outputs": [],
   "source": [
    "isTP = 0;\n",
    "isBL = 0;\n",
    "mult = 1;\n",
    "sampling_time   = 1u\"ns\"\n",
    "hits_threshold  = 0.005; # MeV\n",
    "E = 400;"
   ]
  },
  {
   "cell_type": "code",
   "execution_count": 81,
   "metadata": {},
   "outputs": [
    {
     "name": "stderr",
     "output_type": "stream",
     "text": [
      "\u001b[32mProgress: 100%|██████████| Time: 0:00:10\u001b[39m\n"
     ]
    }
   ],
   "source": [
    "# filename = \"/remote/ceph2/group/gerda/data/mpik/gerda-simulations/gerda-gems-db/pss-dev/calib/multi_s1_8220/Bi212/edep/raw-calib-multi_s1_8220-Bi212-edep-0000.root\"\n",
    "for filename in filenames\n",
    "    E_lim = E\n",
    "    output_path = base_path_raw*basename(filename)*\"/\";\n",
    "\n",
    "    file = TFile(filename)\n",
    "\n",
    "    tree = file[\"fTree\"];\n",
    "\n",
    "    tt = Table(eventnumber = tree.eventnumber[:],\n",
    "        hits_iddet   = tree.hits_iddet[:],\n",
    "        hits_edep    = tree.hits_edep[:],\n",
    "        hits_xpos    = tree.hits_xpos[:] .* 10, # mm\n",
    "        hits_ypos    = tree.hits_ypos[:] .* 10, # mm\n",
    "        hits_zpos    = tree.hits_zpos[:] .* 10) # mm\n",
    "\n",
    "    tt = tt |> @filter(length(_.hits_edep) != 0 && sum(_.hits_edep) >= E_lim/1000 && length(unique(_.hits_iddet)) == 1) |> Table;\n",
    "\n",
    "    data = Table(\n",
    "        evtno        = [],\n",
    "        multiplicity = [],\n",
    "        detno        = [],\n",
    "        hits_totnum  = [],\n",
    "        edep         = [],\n",
    "        pos          = []\n",
    "    )\n",
    "    prog = Progress(size(tt,1), dt=0.5,\n",
    "        barglyphs=BarGlyphs('|','█', ['▁' ,'▂' ,'▃' ,'▄' ,'▅' ,'▆', '▇'],' ','|',),\n",
    "        barlen=10)\n",
    "    for i in eachindex(tt)\n",
    "        multi = 1\n",
    "        det = tt[i].hits_iddet[1]\n",
    "        parameters[sim_to_channel[det][2]][\"upside_down\"] == true ? upside_down = -1 : upside_down = 1\n",
    "        append!(data, Table(\n",
    "        evtno        = [tt[i].eventnumber],\n",
    "        multiplicity = [multi],\n",
    "        detno        = [Array{Int64,1}(zeros(length(tt[i].hits_iddet)) .+ sim_to_channel[det][1])],\n",
    "        hits_totnum  = [length(tt[i].hits_edep)],\n",
    "        edep         = [tt[i].hits_edep],\n",
    "        pos          = [ SVector{3}(([ tt[i].hits_xpos[k] .- parameters[sim_to_channel[det][2]][\"detcenter_x\"], \n",
    "                                    tt[i].hits_ypos[k] .- parameters[sim_to_channel[det][2]][\"detcenter_y\"], \n",
    "                                    upside_down .* (tt[i].hits_zpos[k] .- parameters[sim_to_channel[det][2]][\"detcenter_z\"] .+ upside_down * parameters[sim_to_channel[det][2]][\"height\"]/2) \n",
    "                        ] * u\"mm\")...) for k in eachindex(tt[i].hits_xpos) ]\n",
    "            )\n",
    "        )\n",
    "        next!(prog)\n",
    "    end\n",
    "    tt = nothing\n",
    "    dets = []\n",
    "    for detno in data.detno\n",
    "        push!(dets, unique(detno)[1])\n",
    "    end\n",
    "    dets = unique(dets)[1:2]\n",
    "    prog = Progress(length(dets), dt=0.5,\n",
    "        barglyphs=BarGlyphs('|','█', ['▁' ,'▂' ,'▃' ,'▄' ,'▅' ,'▆', '▇'],' ','|',),\n",
    "        barlen=10)\n",
    "    @info(\"Creating files for each detector\")\n",
    "    for detno in dets\n",
    "        det = channel_to_name[detno]\n",
    "        t = data |> @filter(unique(_.detno)[1] == detno) |> Table;\n",
    "        HDF5.h5open(output_path * lpad(detno, 2, \"0\") * \"-\" * det * \".h5\", \"w\") do h5f\n",
    "            LegendHDF5IO.writedata( h5f, \"data\", Table(evtno = t.evtno, event_mult = t.multiplicity, detno = VectorOfArrays(t.detno), hits_totnum = t.hits_totnum, \n",
    "                                                                    edep = VectorOfArrays(t.edep), pos = VectorOfArrays(t.pos)))\n",
    "        end\n",
    "        next!(prog)\n",
    "    end\n",
    "end"
   ]
  },
  {
   "cell_type": "code",
   "execution_count": null,
   "metadata": {},
   "outputs": [],
   "source": []
  }
 ],
 "metadata": {
  "kernelspec": {
   "display_name": "Julia 1.5.2",
   "language": "julia",
   "name": "julia-1.5"
  },
  "language_info": {
   "file_extension": ".jl",
   "mimetype": "application/julia",
   "name": "julia",
   "version": "1.5.2"
  }
 },
 "nbformat": 4,
 "nbformat_minor": 4
}
