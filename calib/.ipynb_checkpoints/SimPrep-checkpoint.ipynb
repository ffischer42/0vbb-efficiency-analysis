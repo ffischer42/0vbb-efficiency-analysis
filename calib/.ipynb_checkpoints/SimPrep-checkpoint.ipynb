{
 "cells": [
  {
   "cell_type": "markdown",
   "metadata": {},
   "source": [
    "# Part 1"
   ]
  },
  {
   "cell_type": "code",
   "execution_count": 64,
   "metadata": {},
   "outputs": [],
   "source": [
    "# function main(args)\n",
    "#     return args\n",
    "# end\n",
    "# Load inline arguments for worker unit\n",
    "# num_workers, this = main(ARGS)\n",
    "num_workers = 4 #parse(Int64, num_workers)\n",
    "this        = 1 #parse(Int64, this)\n",
    "\n",
    "#\n",
    "# Important directories\n",
    "simdir          = \"/remote/ceph2/group/gerda/data/mpik/gerda-simulations/gerda-gems-db/pss-dev\"\n",
    "simdir_old      = \"/remote/ceph/group/gerda/data/simulation/gerda-mage-sim\"\n",
    "mapping_file    = simdir_old*\"/UTILS/det-data/ged-mapping.json\"\n",
    "parameters_file = simdir_old*\"/UTILS/det-data/ged-parameters.json\"\n",
    "config_dir      = \"/res/Impurity_Scan/config-dep/\"\n",
    "\n",
    "#\n",
    "# Load packages and functions\n",
    "include(\"../src/init.jl\")\n",
    "include(\"../src/fct.jl\")\n",
    "include(\"../src/worker_fct.jl\")\n",
    "\n",
    "#\n",
    "# Output paths and filter settings\n",
    "plots_base_path = \"../../waveforms/sim/plots/raw/\"\n",
    "base_path_raw   = \"../../waveforms/sim/raw-test/\"\n",
    "base_path       = \"../../waveforms/sim/processed/\"\n",
    "n_sim_events    = 5000\n",
    "isTP = 0;\n",
    "isBL = 0;\n",
    "mult = 1;\n",
    "sampling_time   = 1u\"ns\"\n",
    "hits_threshold  = 0.005; # MeV\n",
    "E = 400;"
   ]
  },
  {
   "cell_type": "code",
   "execution_count": 65,
   "metadata": {},
   "outputs": [
    {
     "data": {
      "text/plain": [
       "126-element Array{String,1}:\n",
       " \"calib/multi_s1_8220/Bi212/edep/raw-calib-multi_s1_8220-Bi212-edep-0000.root\"\n",
       " \"calib/multi_s1_8220/Bi212/edep/raw-calib-multi_s1_8220-Bi212-edep-0001.root\"\n",
       " \"calib/multi_s1_8220/Bi212/edep/raw-calib-multi_s1_8220-Bi212-edep-0002.root\"\n",
       " \"calib/multi_s1_8220/Bi212/edep/raw-calib-multi_s1_8220-Bi212-edep-0003.root\"\n",
       " \"calib/multi_s1_8220/Bi212/edep/raw-calib-multi_s1_8220-Bi212-edep-0004.root\"\n",
       " \"calib/multi_s1_8220/Bi212/edep/raw-calib-multi_s1_8220-Bi212-edep-0005.root\"\n",
       " \"calib/multi_s1_8220/Bi212/edep/raw-calib-multi_s1_8220-Bi212-edep-0006.root\"\n",
       " \"calib/multi_s1_8220/Bi212/edep/raw-calib-multi_s1_8220-Bi212-edep-0007.root\"\n",
       " \"calib/multi_s1_8220/Bi212/edep/raw-calib-multi_s1_8220-Bi212-edep-0008.root\"\n",
       " \"calib/multi_s1_8220/Bi212/edep/raw-calib-multi_s1_8220-Bi212-edep-0009.root\"\n",
       " \"calib/multi_s1_8220/Bi212/edep/raw-calib-multi_s1_8220-Bi212-edep-0010.root\"\n",
       " \"calib/multi_s1_8220/Bi212/edep/raw-calib-multi_s1_8220-Bi212-edep-0011.root\"\n",
       " \"calib/multi_s1_8220/Bi212/edep/raw-calib-multi_s1_8220-Bi212-edep-0012.root\"\n",
       " ⋮\n",
       " \"calib/multi_s1_8405/Bi212/edep/raw-calib-multi_s1_8405-Bi212-edep-0044.root\"\n",
       " \"calib/multi_s1_8405/Bi212/edep/raw-calib-multi_s1_8405-Bi212-edep-0045.root\"\n",
       " \"calib/multi_s1_8405/Bi212/edep/raw-calib-multi_s1_8405-Bi212-edep-0046.root\"\n",
       " \"calib/multi_s1_8405/Bi212/edep/raw-calib-multi_s1_8405-Bi212-edep-0047.root\"\n",
       " \"calib/multi_s1_8405/Bi212/edep/raw-calib-multi_s1_8405-Bi212-edep-0048.root\"\n",
       " \"calib/multi_s1_8405/Bi212/edep/raw-calib-multi_s1_8405-Bi212-edep-0049.root\"\n",
       " \"calib/multi_s1_8405/Tl208/edep/raw-calib-multi_s1_8405-Tl208-edep-0000.root\"\n",
       " \"calib/multi_s1_8405/Tl208/edep/raw-calib-multi_s1_8405-Tl208-edep-0001.root\"\n",
       " \"calib/multi_s1_8405/Tl208/edep/raw-calib-multi_s1_8405-Tl208-edep-0002.root\"\n",
       " \"calib/multi_s1_8405/Tl208/edep/raw-calib-multi_s1_8405-Tl208-edep-0003.root\"\n",
       " \"calib/multi_s1_8405/Tl208/edep/raw-calib-multi_s1_8405-Tl208-edep-0004.root\"\n",
       " \"calib/multi_s1_8405/Tl208/edep/raw-calib-multi_s1_8405-Tl208-edep-0005.root\""
      ]
     },
     "execution_count": 65,
     "metadata": {},
     "output_type": "execute_result"
    }
   ],
   "source": [
    "#\n",
    "# Load workers log file\n",
    "log_file = base_path_raw * \"log-\" * string(this) * \".json\"\n",
    "if !isdir(base_path_raw)\n",
    "    mkpath(base_path_raw)\n",
    "end\n",
    "if !isfile(log_file)\n",
    "    open(log_file, \"w\") do f\n",
    "        JSON.print(f, Dict(), 4)\n",
    "    end\n",
    "    global log = Dict()\n",
    "else\n",
    "    global log = JSON.parsefile(log_file)\n",
    "end;\n",
    "\n",
    "#\n",
    "# Collect simulation filepaths\n",
    "current_dir = pwd()\n",
    "cd(simdir)\n",
    "filenames = glob(\"calib/*/*/*/*.root\")\n",
    "cd(current_dir)\n",
    "\n",
    "filenames = get_share_for_worker(filenames, num_workers, this)"
   ]
  },
  {
   "cell_type": "code",
   "execution_count": 66,
   "metadata": {},
   "outputs": [
    {
     "name": "stderr",
     "output_type": "stream",
     "text": [
      "┌ Info: 1 of 126 in progress!\n",
      "└ @ Main In[66]:7\n",
      "\u001b[32mProgress: 100%|██████████| Time: 0:00:19\u001b[39m\n",
      "┌ Info: Creating files for each detector\n",
      "└ @ Main In[66]:58\n",
      "\u001b[32mProgress: 100%|██████████| Time: 0:00:10\u001b[39m\n",
      "┌ Info: 2 of 126 in progress!\n",
      "└ @ Main In[66]:7\n",
      "\u001b[32mProgress: 100%|██████████| Time: 0:00:19\u001b[39m\n",
      "┌ Info: Creating files for each detector\n",
      "└ @ Main In[66]:58\n",
      "\u001b[32mProgress: 100%|██████████| Time: 0:00:09\u001b[39m\n",
      "┌ Info: 3 of 126 in progress!\n",
      "└ @ Main In[66]:7\n",
      "\u001b[32mProgress: 100%|██████████| Time: 0:00:19\u001b[39m\n",
      "┌ Info: Creating files for each detector\n",
      "└ @ Main In[66]:58\n",
      "\u001b[32mProgress: 100%|██████████| Time: 0:00:09\u001b[39m\n",
      "┌ Info: 4 of 126 in progress!\n",
      "└ @ Main In[66]:7\n",
      "\u001b[32mProgress: 100%|██████████| Time: 0:00:19\u001b[39m\n",
      "┌ Info: Creating files for each detector\n",
      "└ @ Main In[66]:58\n",
      "\u001b[32mProgress: 100%|██████████| Time: 0:00:09\u001b[39m\n",
      "┌ Info: 5 of 126 in progress!\n",
      "└ @ Main In[66]:7\n",
      "\u001b[32mProgress: 100%|██████████| Time: 0:00:19\u001b[39m\n",
      "┌ Info: Creating files for each detector\n",
      "└ @ Main In[66]:58\n",
      "\u001b[32mProgress:  22%|██▂       |  ETA: 0:00:08\u001b[39m"
     ]
    },
    {
     "ename": "LoadError",
     "evalue": "InterruptException:",
     "output_type": "error",
     "traceback": [
      "InterruptException:",
      "",
      "Stacktrace:",
      " [1] map at ./tuple.jl:160 [inlined]",
      " [2] map(::Function, ::NamedTuple{(:evtno, :multiplicity, :detno, :hits_totnum, :edep, :pos),NTuple{6,Array{Any,1}}}) at ./namedtuple.jl:187",
      " [3] getindex at /user/.julia/packages/TypedTables/ZF2b3/src/Table.jl:123 [inlined]",
      " [4] iterate(::Table{NamedTuple{(:evtno, :multiplicity, :detno, :hits_totnum, :edep, :pos),NTuple{6,Any}},1,NamedTuple{(:evtno, :multiplicity, :detno, :hits_totnum, :edep, :pos),NTuple{6,Array{Any,1}}}}, ::Tuple{Base.OneTo{Int64},Int64}) at ./abstractarray.jl:986",
      " [5] iterate at /user/.julia/packages/QueryOperators/gDUos/src/source_iterable.jl:23 [inlined]",
      " [6] iterate(::QueryOperators.EnumerableFilter{NamedTuple{(:evtno, :multiplicity, :detno, :hits_totnum, :edep, :pos),NTuple{6,Any}},QueryOperators.EnumerableIterable{NamedTuple{(:evtno, :multiplicity, :detno, :hits_totnum, :edep, :pos),NTuple{6,Any}},Table{NamedTuple{(:evtno, :multiplicity, :detno, :hits_totnum, :edep, :pos),NTuple{6,Any}},1,NamedTuple{(:evtno, :multiplicity, :detno, :hits_totnum, :edep, :pos),NTuple{6,Array{Any,1}}}}},var\"#187#195\"{Int64}}, ::Tuple{Base.OneTo{Int64},Int64}) at /user/.julia/packages/QueryOperators/gDUos/src/enumerable/enumerable_filter.jl:24",
      " [7] __buildcolumns(::QueryOperators.EnumerableFilter{NamedTuple{(:evtno, :multiplicity, :detno, :hits_totnum, :edep, :pos),NTuple{6,Any}},QueryOperators.EnumerableIterable{NamedTuple{(:evtno, :multiplicity, :detno, :hits_totnum, :edep, :pos),NTuple{6,Any}},Table{NamedTuple{(:evtno, :multiplicity, :detno, :hits_totnum, :edep, :pos),NTuple{6,Any}},1,NamedTuple{(:evtno, :multiplicity, :detno, :hits_totnum, :edep, :pos),NTuple{6,Array{Any,1}}}}},var\"#187#195\"{Int64}}, ::Tuple{Base.OneTo{Int64},Int64}, ::Tables.Schema{(:evtno, :multiplicity, :detno, :hits_totnum, :edep, :pos),nothing}, ::Tuple{Array{Int32,1},Array{Int64,1},Array{Array{Int64,1},1},Array{Int64,1},Array{Array{Float32,1},1},Array{Array{SArray{Tuple{3},Quantity{Float64,𝐋,Unitful.FreeUnits{(mm,),𝐋,nothing}},1,3},1},1}}, ::Int64, ::Base.RefValue{Any}) at /user/.julia/packages/Tables/iG2a3/src/fallbacks.jl:160",
      " [8] _buildcolumns(::QueryOperators.EnumerableFilter{NamedTuple{(:evtno, :multiplicity, :detno, :hits_totnum, :edep, :pos),NTuple{6,Any}},QueryOperators.EnumerableIterable{NamedTuple{(:evtno, :multiplicity, :detno, :hits_totnum, :edep, :pos),NTuple{6,Any}},Table{NamedTuple{(:evtno, :multiplicity, :detno, :hits_totnum, :edep, :pos),NTuple{6,Any}},1,NamedTuple{(:evtno, :multiplicity, :detno, :hits_totnum, :edep, :pos),NTuple{6,Array{Any,1}}}}},var\"#187#195\"{Int64}}, ::NamedTuple{(:evtno, :multiplicity, :detno, :hits_totnum, :edep, :pos),NTuple{6,Any}}, ::Tuple{Base.OneTo{Int64},Int64}, ::Tables.Schema{(:evtno, :multiplicity, :detno, :hits_totnum, :edep, :pos),nothing}, ::NTuple{6,Tables.EmptyVector}, ::Base.RefValue{Any}) at /user/.julia/packages/Tables/iG2a3/src/fallbacks.jl:188",
      " [9] buildcolumns at /user/.julia/packages/Tables/iG2a3/src/fallbacks.jl:217 [inlined]",
      " [10] _columns(::QueryOperators.EnumerableFilter{NamedTuple{(:evtno, :multiplicity, :detno, :hits_totnum, :edep, :pos),NTuple{6,Any}},QueryOperators.EnumerableIterable{NamedTuple{(:evtno, :multiplicity, :detno, :hits_totnum, :edep, :pos),NTuple{6,Any}},Table{NamedTuple{(:evtno, :multiplicity, :detno, :hits_totnum, :edep, :pos),NTuple{6,Any}},1,NamedTuple{(:evtno, :multiplicity, :detno, :hits_totnum, :edep, :pos),NTuple{6,Array{Any,1}}}}},var\"#187#195\"{Int64}}) at /user/.julia/packages/TypedTables/ZF2b3/src/Table.jl:42",
      " [11] Table(::QueryOperators.EnumerableFilter{NamedTuple{(:evtno, :multiplicity, :detno, :hits_totnum, :edep, :pos),NTuple{6,Any}},QueryOperators.EnumerableIterable{NamedTuple{(:evtno, :multiplicity, :detno, :hits_totnum, :edep, :pos),NTuple{6,Any}},Table{NamedTuple{(:evtno, :multiplicity, :detno, :hits_totnum, :edep, :pos),NTuple{6,Any}},1,NamedTuple{(:evtno, :multiplicity, :detno, :hits_totnum, :edep, :pos),NTuple{6,Array{Any,1}}}}},var\"#187#195\"{Int64}}; kwargs::Base.Iterators.Pairs{Union{},Union{},Tuple{},NamedTuple{(),Tuple{}}}) at /user/.julia/packages/TypedTables/ZF2b3/src/Table.jl:24",
      " [12] Table(::QueryOperators.EnumerableFilter{NamedTuple{(:evtno, :multiplicity, :detno, :hits_totnum, :edep, :pos),NTuple{6,Any}},QueryOperators.EnumerableIterable{NamedTuple{(:evtno, :multiplicity, :detno, :hits_totnum, :edep, :pos),NTuple{6,Any}},Table{NamedTuple{(:evtno, :multiplicity, :detno, :hits_totnum, :edep, :pos),NTuple{6,Any}},1,NamedTuple{(:evtno, :multiplicity, :detno, :hits_totnum, :edep, :pos),NTuple{6,Array{Any,1}}}}},var\"#187#195\"{Int64}}) at /user/.julia/packages/TypedTables/ZF2b3/src/Table.jl:24",
      " [13] |>(::QueryOperators.EnumerableFilter{NamedTuple{(:evtno, :multiplicity, :detno, :hits_totnum, :edep, :pos),NTuple{6,Any}},QueryOperators.EnumerableIterable{NamedTuple{(:evtno, :multiplicity, :detno, :hits_totnum, :edep, :pos),NTuple{6,Any}},Table{NamedTuple{(:evtno, :multiplicity, :detno, :hits_totnum, :edep, :pos),NTuple{6,Any}},1,NamedTuple{(:evtno, :multiplicity, :detno, :hits_totnum, :edep, :pos),NTuple{6,Array{Any,1}}}}},var\"#187#195\"{Int64}}, ::Type{T} where T) at ./operators.jl:834",
      " [14] top-level scope at In[66]:61",
      " [15] include_string(::Function, ::Module, ::String, ::String) at ./loading.jl:1091"
     ]
    }
   ],
   "source": [
    "data = nothing\n",
    "for filename in filenames\n",
    "    E_lim = E\n",
    "    output_path = base_path_raw*basename(filename)*\"/\";\n",
    "    if !haskey(log, basename(filename))\n",
    "        Base.run(`clear`)\n",
    "        @info(string(findfirst(x->x == filename, filenames)) * \" of \" * string(length(filenames)) * \" in progress!\")\n",
    "        file = TFile(joinpath(simdir, filename))\n",
    "        tree = file[\"fTree\"];\n",
    "\n",
    "        tt = Table(eventnumber = tree.eventnumber[:],\n",
    "            hits_iddet   = tree.hits_iddet[:],\n",
    "            hits_edep    = tree.hits_edep[:],\n",
    "            hits_xpos    = tree.hits_xpos[:] .* 10, # mm\n",
    "            hits_ypos    = tree.hits_ypos[:] .* 10, # mm\n",
    "            hits_zpos    = tree.hits_zpos[:] .* 10) # mm\n",
    "\n",
    "        tt = tt |> @filter(length(_.hits_edep) != 0 && sum(_.hits_edep) >= E_lim/1000 && length(unique(_.hits_iddet)) == 1) |> Table;\n",
    "\n",
    "        data = Table(\n",
    "            evtno        = [],\n",
    "            multiplicity = [],\n",
    "            detno        = [],\n",
    "            hits_totnum  = [],\n",
    "            edep         = [],\n",
    "            pos          = []\n",
    "        )\n",
    "        prog = Progress(size(tt,1), dt=0.5,\n",
    "            barglyphs=BarGlyphs('|','█', ['▁' ,'▂' ,'▃' ,'▄' ,'▅' ,'▆', '▇'],' ','|',),\n",
    "            barlen=10)\n",
    "        for i in eachindex(tt)\n",
    "            multi = 1\n",
    "            det = tt[i].hits_iddet[1]\n",
    "            parameters[sim_to_channel[det][2]][\"upside_down\"] == true ? upside_down = -1 : upside_down = 1\n",
    "            append!(data, Table(\n",
    "                evtno        = [tt[i].eventnumber],\n",
    "                multiplicity = [multi],\n",
    "                detno        = [Array{Int64,1}(zeros(length(tt[i].hits_iddet)) .+ sim_to_channel[det][1])],\n",
    "                hits_totnum  = [length(tt[i].hits_edep)],\n",
    "                edep         = [tt[i].hits_edep],\n",
    "                pos          = [[ SVector{3}(([ tt[i].hits_xpos[k] .- parameters[sim_to_channel[det][2]][\"detcenter_x\"], \n",
    "                                        tt[i].hits_ypos[k] .- parameters[sim_to_channel[det][2]][\"detcenter_y\"], \n",
    "                                        upside_down .* (tt[i].hits_zpos[k] .- parameters[sim_to_channel[det][2]][\"detcenter_z\"] .+ upside_down * parameters[sim_to_channel[det][2]][\"height\"]/2) \n",
    "                            ] * u\"mm\")...) for k in eachindex(tt[i].hits_xpos) ]]\n",
    "                )\n",
    "            )\n",
    "            next!(prog)\n",
    "        end\n",
    "        tt = nothing\n",
    "        dets = []\n",
    "        for detno in data.detno\n",
    "            push!(dets, unique(detno)[1])\n",
    "        end\n",
    "        dets = unique(dets)\n",
    "        prog = Progress(length(dets), dt=0.5,\n",
    "            barglyphs=BarGlyphs('|','█', ['▁' ,'▂' ,'▃' ,'▄' ,'▅' ,'▆', '▇'],' ','|',),\n",
    "            barlen=10)\n",
    "        @info(\"Creating files for each detector\")\n",
    "        for detno in dets\n",
    "            det = channel_to_name[detno]\n",
    "            t = data |> @filter(unique(_.detno)[1] == detno) |> Table;\n",
    "            !isdir(output_path) ? mkpath(output_path) : \"\"\n",
    "            HDF5.h5open(output_path * lpad(detno, 2, \"0\") * \"-\" * det * \".h5\", \"w\") do h5f\n",
    "                LegendHDF5IO.writedata( h5f, \"data\", Table(\n",
    "                    evtno       = t.evtno, \n",
    "                    event_mult  = t.multiplicity, \n",
    "                    detno       = VectorOfArrays(t.detno), \n",
    "                    hits_totnum = t.hits_totnum, \n",
    "                    edep        = VectorOfArrays(t.edep), \n",
    "                    pos         = VectorOfArrays(t.pos)))\n",
    "            end\n",
    "            next!(prog)\n",
    "        end\n",
    "        \n",
    "        # Log the progress\n",
    "        log[basename(filename)] = \"Done!\"\n",
    "        open(log_file, \"w\") do f\n",
    "            JSON.print(f, log, 4)\n",
    "        end\n",
    "    end\n",
    "end"
   ]
  },
  {
   "cell_type": "code",
   "execution_count": 63,
   "metadata": {},
   "outputs": [
    {
     "data": {
      "text/plain": [
       "1-element Array{Any,1}:\n",
       " SArray{Tuple{3},Quantity{Float64,𝐋,Unitful.FreeUnits{(mm,),𝐋,nothing}},1,3}[[24.548370361328125 mm, 4.87031888961792 mm, 22.582061767578125 mm], [5.85748291015625 mm, -31.875835418701172 mm, 2.6553592681884766 mm], [4.073020935058594 mm, -33.971004486083984 mm, 2.754329204559326 mm], [-6.495964050292969 mm, -31.0124568939209 mm, 5.062865734100342 mm], [-6.5029296875 mm, -29.150985717773438 mm, 2.8265469074249268 mm], [-6.521110534667969 mm, -29.149866104125977 mm, 2.816910743713379 mm], [-6.5209808349609375 mm, -29.150114059448242 mm, 2.816713333129883 mm], [-6.506431579589844 mm, -31.01382827758789 mm, 5.070327281951904 mm], [4.0707244873046875 mm, -33.998531341552734 mm, 2.751674175262451 mm], [4.0706787109375 mm, -33.99852752685547 mm, 2.7516722679138184 mm], [5.859466552734375 mm, -31.878128051757812 mm, 2.648698091506958 mm], [24.546951293945312 mm, 4.869632720947266 mm, 22.584312438964844 mm]]"
      ]
     },
     "execution_count": 63,
     "metadata": {},
     "output_type": "execute_result"
    }
   ],
   "source": [
    "data.pos"
   ]
  },
  {
   "cell_type": "code",
   "execution_count": null,
   "metadata": {},
   "outputs": [],
   "source": []
  },
  {
   "cell_type": "code",
   "execution_count": null,
   "metadata": {},
   "outputs": [],
   "source": []
  },
  {
   "cell_type": "markdown",
   "metadata": {},
   "source": [
    "# Part 2"
   ]
  },
  {
   "cell_type": "code",
   "execution_count": 90,
   "metadata": {},
   "outputs": [],
   "source": [
    "# function main(args)\n",
    "#     return args\n",
    "# end\n",
    "# Load inline arguments for worker unit\n",
    "# num_workers, this = main(ARGS)\n",
    "num_workers = 8 #parse(Int64, num_workers)\n",
    "this        = 1 #parse(Int64, this)\n",
    "\n",
    "#\n",
    "# Important directories\n",
    "simdir          = \"/remote/ceph2/group/gerda/data/mpik/gerda-simulations/gerda-gems-db/pss-dev\"\n",
    "simdir_old      = \"/remote/ceph/group/gerda/data/simulation/gerda-mage-sim\"\n",
    "mapping_file    = simdir_old*\"/UTILS/det-data/ged-mapping.json\"\n",
    "parameters_file = simdir_old*\"/UTILS/det-data/ged-parameters.json\"\n",
    "config_dir      = \"../../../2020-02-06_8380701d_st_ffischer/res/Impurity_Scan/config-dep/\"\n",
    "\n",
    "#\n",
    "# Load packages and functions\n",
    "include(\"../src/init.jl\")\n",
    "include(\"../src/fct.jl\")\n",
    "include(\"../src/worker_fct.jl\")\n",
    "\n",
    "#\n",
    "# Output paths and filter settings\n",
    "plots_base_path = \"../../waveforms/sim/plots/raw/\"\n",
    "base_path_raw   = \"../../waveforms/sim/raw/\"\n",
    "base_path       = \"../../waveforms/sim/raw_wf/\"\n",
    "n_sim_events    = 10000;\n",
    "sampling_time   = 1u\"ns\";\n",
    "generate_wf     = false;\n",
    "generate_cl_wf  = true;\n",
    "no_new_files    = 0"
   ]
  },
  {
   "cell_type": "code",
   "execution_count": 91,
   "metadata": {},
   "outputs": [],
   "source": [
    "channels = []\n",
    "for c in 0:1:36\n",
    "    files = glob(base_path_raw * \"raw*/\" * lpad(c, 2, \"0\") * \"-\" * channel_to_name[c] * \".h5\");\n",
    "    if length(files) > 0\n",
    "        push!(channels, c)\n",
    "    end\n",
    "end\n",
    "channels = get_share_for_worker(channels, num_workers, this)"
   ]
  },
  {
   "cell_type": "code",
   "execution_count": 92,
   "metadata": {},
   "outputs": [
    {
     "name": "stderr",
     "output_type": "stream",
     "text": [
      "┌ Info: Start ch0 | GD91A\n",
      "└ @ Main In[92]:5\n",
      "┌ Info: >---------------------------------------------------------------<\n",
      "└ @ Main In[92]:6\n"
     ]
    },
    {
     "name": "stdout",
     "output_type": "stream",
     "text": [
      "  0.095526 seconds (7.44 k allocations: 14.691 MiB)\n"
     ]
    },
    {
     "name": "stderr",
     "output_type": "stream",
     "text": [
      "┌ Info: Load SSD simulation\n",
      "└ @ Main In[92]:27\n"
     ]
    },
    {
     "name": "stdout",
     "output_type": "stream",
     "text": [
      " 10.963409 seconds (311.28 M allocations: 9.763 GiB, 17.23% gc time)\n"
     ]
    },
    {
     "name": "stderr",
     "output_type": "stream",
     "text": [
      "┌ Info: File 1 | 134\n",
      "└ @ Main In[92]:47\n",
      "┌ Info: Start simulating clustered waveforms for ch00 | GD91A\n",
      "└ @ Main In[92]:48\n",
      "┌ Info: >---------------------------------------------------------------<\n",
      "└ @ Main In[92]:49\n",
      "┌ Info: 219744 hits before clustering\n",
      "└ @ Main In[92]:50\n",
      "┌ Info: 57775 hits after clustering\n",
      "└ @ Main In[92]:52\n",
      "┌ Info: Detector has 2 contact(s)\n",
      "└ @ SolidStateDetectors /user/.julia/packages/SolidStateDetectors/Fyds7/src/MCEventsProcessing/MCEventsProcessing_hdf5.jl:12\n",
      "┌ Info: -> 57775 energy depositions to simulate.\n",
      "└ @ SolidStateDetectors /user/.julia/packages/SolidStateDetectors/Fyds7/src/MCEventsProcessing/MCEventsProcessing_hdf5.jl:20\n",
      "┌ Info: Now simulating 1:5000 and storing it in\n",
      "│ \t \"../../waveforms/sim/raw_wf/00-GD91A/cl-wf/00-GD91A-cl-wf-raw-calib-multi_s1_8220-Bi212-edep-0000.root_evts_00001-05000.h5\"\n",
      "└ @ SolidStateDetectors /user/.julia/packages/SolidStateDetectors/Fyds7/src/MCEventsProcessing/MCEventsProcessing_hdf5.jl:24\n",
      "┌ Info: Detector has 2 contact(s)\n",
      "└ @ SolidStateDetectors /user/.julia/packages/SolidStateDetectors/Fyds7/src/MCEventsProcessing/MCEventsProcessing.jl:18\n",
      "┌ Info: Table has 5000 physics events (14752 single charge depositions).\n",
      "└ @ SolidStateDetectors /user/.julia/packages/SolidStateDetectors/Fyds7/src/MCEventsProcessing/MCEventsProcessing.jl:19\n",
      "\u001b[32mProgress: 100%|█████████████████████████████████████████| Time: 0:00:07\u001b[39m\n",
      "┌ Info: Generating waveforms...\n",
      "└ @ SolidStateDetectors /user/.julia/packages/SolidStateDetectors/Fyds7/src/MCEventsProcessing/MCEventsProcessing.jl:24\n",
      "┌ Info: Now simulating 5001:10000 and storing it in\n",
      "│ \t \"../../waveforms/sim/raw_wf/00-GD91A/cl-wf/00-GD91A-cl-wf-raw-calib-multi_s1_8220-Bi212-edep-0000.root_evts_05001-10000.h5\"\n",
      "└ @ SolidStateDetectors /user/.julia/packages/SolidStateDetectors/Fyds7/src/MCEventsProcessing/MCEventsProcessing_hdf5.jl:24\n",
      "┌ Info: Detector has 2 contact(s)\n",
      "└ @ SolidStateDetectors /user/.julia/packages/SolidStateDetectors/Fyds7/src/MCEventsProcessing/MCEventsProcessing.jl:18\n",
      "┌ Info: Table has 5000 physics events (14642 single charge depositions).\n",
      "└ @ SolidStateDetectors /user/.julia/packages/SolidStateDetectors/Fyds7/src/MCEventsProcessing/MCEventsProcessing.jl:19\n",
      "\u001b[32mProgress: 100%|█████████████████████████████████████████| Time: 0:00:07\u001b[39m\n",
      "┌ Info: Generating waveforms...\n",
      "└ @ SolidStateDetectors /user/.julia/packages/SolidStateDetectors/Fyds7/src/MCEventsProcessing/MCEventsProcessing.jl:24\n",
      "┌ Info: Now simulating 10001:15000 and storing it in\n",
      "│ \t \"../../waveforms/sim/raw_wf/00-GD91A/cl-wf/00-GD91A-cl-wf-raw-calib-multi_s1_8220-Bi212-edep-0000.root_evts_10001-15000.h5\"\n",
      "└ @ SolidStateDetectors /user/.julia/packages/SolidStateDetectors/Fyds7/src/MCEventsProcessing/MCEventsProcessing_hdf5.jl:24\n",
      "┌ Info: Detector has 2 contact(s)\n",
      "└ @ SolidStateDetectors /user/.julia/packages/SolidStateDetectors/Fyds7/src/MCEventsProcessing/MCEventsProcessing.jl:18\n",
      "┌ Info: Table has 5000 physics events (14440 single charge depositions).\n",
      "└ @ SolidStateDetectors /user/.julia/packages/SolidStateDetectors/Fyds7/src/MCEventsProcessing/MCEventsProcessing.jl:19\n",
      "\u001b[32mProgress: 100%|█████████████████████████████████████████| Time: 0:00:06\u001b[39m\n",
      "┌ Info: Generating waveforms...\n",
      "└ @ SolidStateDetectors /user/.julia/packages/SolidStateDetectors/Fyds7/src/MCEventsProcessing/MCEventsProcessing.jl:24\n",
      "┌ Info: Now simulating 15001:19766 and storing it in\n",
      "│ \t \"../../waveforms/sim/raw_wf/00-GD91A/cl-wf/00-GD91A-cl-wf-raw-calib-multi_s1_8220-Bi212-edep-0000.root_evts_15001-19766.h5\"\n",
      "└ @ SolidStateDetectors /user/.julia/packages/SolidStateDetectors/Fyds7/src/MCEventsProcessing/MCEventsProcessing_hdf5.jl:24\n",
      "┌ Info: Detector has 2 contact(s)\n",
      "└ @ SolidStateDetectors /user/.julia/packages/SolidStateDetectors/Fyds7/src/MCEventsProcessing/MCEventsProcessing.jl:18\n",
      "┌ Info: Table has 4766 physics events (13941 single charge depositions).\n",
      "└ @ SolidStateDetectors /user/.julia/packages/SolidStateDetectors/Fyds7/src/MCEventsProcessing/MCEventsProcessing.jl:19\n",
      "\u001b[32mProgress: 100%|█████████████████████████████████████████| Time: 0:00:06\u001b[39m\n",
      "┌ Info: Generating waveforms...\n",
      "└ @ SolidStateDetectors /user/.julia/packages/SolidStateDetectors/Fyds7/src/MCEventsProcessing/MCEventsProcessing.jl:24\n"
     ]
    }
   ],
   "source": [
    "while no_new_files <= 3\n",
    "    for ch in channels\n",
    "        @info(\"Start Ch\"*lpad(ch, 2, \"0\")*\" | \"*channel_to_name[ch])\n",
    "        @info(\">---------------------------------------------------------------<\")\n",
    "        files = glob(base_path_raw*\"*/*-\"*channel_to_name[ch]*\".h5\")\n",
    "\n",
    "        # Read the SSD simulation file of depleted detector\n",
    "        config_file = glob(config_dir * channel_to_name[ch] * \"*.config\")[1]\n",
    "        sim_output  = glob(config_dir * \"../output/\"*channel_to_name[ch]*\"*/\" )[1]\n",
    "        @info(\"Load SSD simulation\")\n",
    "        @time sim = @suppress readcreateh5(config_file, sim_output);\n",
    "\n",
    "        for file in files\n",
    "            output_dir = base_path * lpad(ch, 2, \"0\") * \"-\" * channel_to_name[ch] * \"/cl-wf/\"\n",
    "            output_dir *= split(file, \"/\")[end-1] * \"/\"\n",
    "            @time events = h5open(file, \"r\") do h5f\n",
    "                LegendHDF5IO.readdata(h5f, \"data\")\n",
    "            end;\n",
    "            last_file = glob(output_dir * \"*.h5\")\n",
    "            if length(last_file) == 0\n",
    "                existance_check = false\n",
    "            else\n",
    "                last_file       = last_file[end]\n",
    "                last_event      = parse(Int64,split(split(last_file,\"-\")[end], \".h5\")[1])\n",
    "                existance_check = isfile(last_file) && last_event == size(events,1) && stat(last_file).size > 0\n",
    "            end\n",
    "            if existance_check\n",
    "                @info(\"This file has already been simluated\")\n",
    "            else\n",
    "                no_new_files = 0\n",
    "                isdir(output_dir) ? \"Directory exists\" : output_dir\n",
    "                file_id = findall(x->x == file, files)[1]\n",
    "                \n",
    "                if generate_wf\n",
    "                    # IJulia.clear_output(true)\n",
    "                    Base.run(`clear`)\n",
    "                    @info(\"File $file_id | \" * string(length(files)))\n",
    "                    @info(\"Start simulating waveforms for ch\" * lpad(ch, 2, \"0\") * \" | \" * channel_to_name[ch])\n",
    "                    @info(\">---------------------------------------------------------------<\")\n",
    "                    output_basename  = lpad(ch, 2, \"0\") * \"-\" * channel_to_name[ch]*\"-wf-\"*split(file, \"/\")[end-1]\n",
    "                    t_with_waveforms = @suppress SSD.simulate_waveforms(events, sim, output_dir, output_basename, chunk_n_physics_events = n_sim_events, Δt = sampling_time);\n",
    "                end\n",
    "\n",
    "                if generate_cl_wf\n",
    "                    # IJulia.clear_output(true)\n",
    "                    Base.run(`clear`)\n",
    "                    @info(\"File $file_id | \"*string(length(files)))\n",
    "                    @info(\"Start simulating clustered waveforms for ch\" * lpad(ch, 2, \"0\") * \" | \" * channel_to_name[ch])\n",
    "                    @info(\">---------------------------------------------------------------<\")\n",
    "                    @info(\"$(sum(length.(events.edep))) hits before clustering\")\n",
    "                    events_clustered = SSD.cluster_detector_hits(events, 0.2u\"mm\")\n",
    "                    @info(\"$(sum(length.(events_clustered.edep))) hits after clustering\")\n",
    "                    output_basename            = lpad(ch, 2, \"0\") * \"-\" * channel_to_name[ch] * \"-cl-wf-\"*split(file, \"/\")[end-1]\n",
    "                    t_clustered_with_waveforms = SSD.simulate_waveforms(events_clustered, sim, output_dir, output_basename, chunk_n_physics_events = n_sim_events, Δt = sampling_time);\n",
    "                end \n",
    "            end\n",
    "        end\n",
    "    end\n",
    "    no_new_files += 1\n",
    "    sleep(300)\n",
    "end"
   ]
  },
  {
   "cell_type": "code",
   "execution_count": 94,
   "metadata": {},
   "outputs": [
    {
     "data": {
      "text/plain": [
       "183-element Array{String,1}:\n",
       " \"../../waveforms/sim/raw/raw-calib-multi_s1_8220-Bi212-edep-0000.root/00-GD91A.h5\"\n",
       " \"../../waveforms/sim/raw/raw-calib-multi_s1_8220-Bi212-edep-0001.root/00-GD91A.h5\"\n",
       " \"../../waveforms/sim/raw/raw-calib-multi_s1_8220-Bi212-edep-0002.root/00-GD91A.h5\"\n",
       " \"../../waveforms/sim/raw/raw-calib-multi_s1_8220-Bi212-edep-0003.root/00-GD91A.h5\"\n",
       " \"../../waveforms/sim/raw/raw-calib-multi_s1_8220-Bi212-edep-0004.root/00-GD91A.h5\"\n",
       " \"../../waveforms/sim/raw/raw-calib-multi_s1_8220-Bi212-edep-0005.root/00-GD91A.h5\"\n",
       " \"../../waveforms/sim/raw/raw-calib-multi_s1_8220-Bi212-edep-0006.root/00-GD91A.h5\"\n",
       " \"../../waveforms/sim/raw/raw-calib-multi_s1_8220-Bi212-edep-0007.root/00-GD91A.h5\"\n",
       " \"../../waveforms/sim/raw/raw-calib-multi_s1_8220-Bi212-edep-0008.root/00-GD91A.h5\"\n",
       " \"../../waveforms/sim/raw/raw-calib-multi_s1_8220-Bi212-edep-0009.root/00-GD91A.h5\"\n",
       " \"../../waveforms/sim/raw/raw-calib-multi_s1_8220-Bi212-edep-0010.root/00-GD91A.h5\"\n",
       " \"../../waveforms/sim/raw/raw-calib-multi_s1_8220-Bi212-edep-0011.root/00-GD91A.h5\"\n",
       " \"../../waveforms/sim/raw/raw-calib-multi_s1_8220-Bi212-edep-0012.root/00-GD91A.h5\"\n",
       " ⋮\n",
       " \"../../waveforms/sim/raw/raw-calib-multi_s2_8570-Bi212-edep-0047.root/00-GD91A.h5\"\n",
       " \"../../waveforms/sim/raw/raw-calib-multi_s2_8570-Bi212-edep-0048.root/00-GD91A.h5\"\n",
       " \"../../waveforms/sim/raw/raw-calib-multi_s2_8570-Bi212-edep-0049.root/00-GD91A.h5\"\n",
       " \"../../waveforms/sim/raw/raw-calib-multi_s2_8570-Tl208-edep-0000.root/00-GD91A.h5\"\n",
       " \"../../waveforms/sim/raw/raw-calib-multi_s2_8570-Tl208-edep-0001.root/00-GD91A.h5\"\n",
       " \"../../waveforms/sim/raw/raw-calib-multi_s2_8570-Tl208-edep-0002.root/00-GD91A.h5\"\n",
       " \"../../waveforms/sim/raw/raw-calib-multi_s2_8570-Tl208-edep-0003.root/00-GD91A.h5\"\n",
       " \"../../waveforms/sim/raw/raw-calib-multi_s3_8220-Tl208-edep-0004.root/00-GD91A.h5\"\n",
       " \"../../waveforms/sim/raw/raw-calib-multi_s3_8220-Tl208-edep-0005.root/00-GD91A.h5\"\n",
       " \"../../waveforms/sim/raw/raw-calib-multi_s3_8220-Tl208-edep-0006.root/00-GD91A.h5\"\n",
       " \"../../waveforms/sim/raw/raw-calib-multi_s3_8405-Tl208-edep-0013.root/00-GD91A.h5\"\n",
       " \"../../waveforms/sim/raw/raw-calib-multi_s3_8405-Tl208-edep-0014.root/00-GD91A.h5\""
      ]
     },
     "execution_count": 94,
     "metadata": {},
     "output_type": "execute_result"
    }
   ],
   "source": [
    "files = glob(base_path_raw*\"*/*-\"*channel_to_name[ch]*\".h5\")"
   ]
  },
  {
   "cell_type": "code",
   "execution_count": 95,
   "metadata": {},
   "outputs": [
    {
     "data": {
      "text/plain": [
       "\"../../waveforms/sim/raw/raw-calib-multi_s1_8220-Bi212-edep-0000.root/00-GD91A.h5\""
      ]
     },
     "execution_count": 95,
     "metadata": {},
     "output_type": "execute_result"
    }
   ],
   "source": [
    "file = files[1]"
   ]
  },
  {
   "cell_type": "code",
   "execution_count": 97,
   "metadata": {},
   "outputs": [
    {
     "data": {
      "text/plain": [
       "\"raw-calib-multi_s1_8220-Bi212-edep-0000.root\""
      ]
     },
     "execution_count": 97,
     "metadata": {},
     "output_type": "execute_result"
    }
   ],
   "source": [
    "split(file, \"/\")[end-1]"
   ]
  },
  {
   "cell_type": "code",
   "execution_count": null,
   "metadata": {},
   "outputs": [],
   "source": []
  },
  {
   "cell_type": "code",
   "execution_count": null,
   "metadata": {},
   "outputs": [],
   "source": []
  },
  {
   "cell_type": "code",
   "execution_count": null,
   "metadata": {},
   "outputs": [],
   "source": []
  },
  {
   "cell_type": "code",
   "execution_count": null,
   "metadata": {},
   "outputs": [],
   "source": []
  }
 ],
 "metadata": {
  "kernelspec": {
   "display_name": "Julia 1.5.2",
   "language": "julia",
   "name": "julia-1.5"
  },
  "language_info": {
   "file_extension": ".jl",
   "mimetype": "application/julia",
   "name": "julia",
   "version": "1.5.2"
  }
 },
 "nbformat": 4,
 "nbformat_minor": 4
}
